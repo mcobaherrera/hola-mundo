{
  "nbformat": 4,
  "nbformat_minor": 0,
  "metadata": {
    "colab": {
      "provenance": [],
      "authorship_tag": "ABX9TyNYlyLUP32Q6wMNCv6Cn5b7",
      "include_colab_link": true
    },
    "kernelspec": {
      "name": "python3",
      "display_name": "Python 3"
    },
    "language_info": {
      "name": "python"
    }
  },
  "cells": [
    {
      "cell_type": "markdown",
      "metadata": {
        "id": "view-in-github",
        "colab_type": "text"
      },
      "source": [
        "<a href=\"https://colab.research.google.com/github/mcobaherrera/hola-mundo/blob/main/A_T2_COBA_MARCELO.ipynb\" target=\"_parent\"><img src=\"https://colab.research.google.com/assets/colab-badge.svg\" alt=\"Open In Colab\"/></a>"
      ]
    },
    {
      "cell_type": "markdown",
      "source": [
        "**TRABAJO 2**\n",
        "\n",
        "TECNOLOGIAS DE LA INFORMACION Y COMUNICACION\n",
        "\n",
        "UNIDAD 3.- HERRAMIENTAS COLABORATIVAS EN LINEA"
      ],
      "metadata": {
        "id": "q08UAaA14gxx"
      }
    },
    {
      "cell_type": "markdown",
      "source": [
        "1.) **Hola Mundo**: Escribe un programa que imprima \"Hola, Mundo!\" en la pantalla.\n"
      ],
      "metadata": {
        "id": "NdseJxSSsukE"
      }
    },
    {
      "cell_type": "code",
      "source": [
        "print (\"hola mundo\")\n"
      ],
      "metadata": {
        "id": "qnWUpPlCs1Lz"
      },
      "execution_count": null,
      "outputs": []
    },
    {
      "cell_type": "markdown",
      "source": [
        "2) Suma de dos números: Escribe un programa que pida al usuario dos números y los sume.\n"
      ],
      "metadata": {
        "id": "NicUk1Q2s5a8"
      }
    },
    {
      "cell_type": "code",
      "source": [],
      "metadata": {
        "id": "m_DvAJ4Itc0i"
      },
      "execution_count": null,
      "outputs": []
    },
    {
      "cell_type": "code",
      "source": [
        "a=int(input(\"ingrese primer numero: \"))\n",
        "b=int(input(\"ingrese segndo numero: \"))\n",
        "print(\"el resultado es: \",a+b)\n"
      ],
      "metadata": {
        "id": "pBATHlt-tHr7",
        "colab": {
          "base_uri": "https://localhost:8080/"
        },
        "outputId": "570f8ed9-a40a-4f32-c839-e6f942db1625"
      },
      "execution_count": null,
      "outputs": [
        {
          "output_type": "stream",
          "name": "stdout",
          "text": [
            "ingrese primer numero: 6\n",
            "ingrese segndo numero: 2\n",
            "el resultado es:  8\n"
          ]
        }
      ]
    },
    {
      "cell_type": "code",
      "source": [],
      "metadata": {
        "id": "eDT9o1RM5NnI"
      },
      "execution_count": null,
      "outputs": []
    },
    {
      "cell_type": "markdown",
      "source": [
        "**3) Par o Impar**: Escribe un programa que determine si un número introducido por el usuario es par o impar.\n"
      ],
      "metadata": {
        "id": "G5FSX5eUtWjq"
      }
    },
    {
      "cell_type": "code",
      "source": [
        "a=int(input(\"ingrese numero: \"))\n",
        "if a%2 == 0:\n",
        "  print(\"el numero es par\")\n",
        "else:\n",
        "  print(\"el numero es impar\")\n"
      ],
      "metadata": {
        "id": "tgQdg_0GtioL",
        "colab": {
          "base_uri": "https://localhost:8080/"
        },
        "outputId": "f8bcf8f5-3fc5-4bb6-9a79-078aacc0ca14"
      },
      "execution_count": null,
      "outputs": [
        {
          "output_type": "stream",
          "name": "stdout",
          "text": [
            "ingrese numero: 4\n",
            "el numero es par\n"
          ]
        }
      ]
    },
    {
      "cell_type": "markdown",
      "source": [
        "**4) Calculadora básica:** Escribe un programa que realice operaciones básicas (suma, resta, multiplicación y división) entre dos números introducidos por el usuario.\n"
      ],
      "metadata": {
        "id": "3JUAjko8t2bj"
      }
    },
    {
      "cell_type": "code",
      "source": [
        "opcion=int(input(\"escoja opcion: \"))\n",
        "print(f\"1.suma\\n2.resta\\n3.multiplicacion\\n4.division\\n5.salir\")\n",
        "def operacion(a,b):\n",
        "  if opcion==1:\n",
        "    return(a+b)\n",
        "  elif opcion==2:\n",
        "    return(a-b)\n",
        "  elif opcion==3:\n",
        "    return(a*b)\n",
        "  elif opcion==4:\n",
        "    return(a/b)\n",
        "\n",
        "if opcion==5:\n",
        "  print(\"gracias por usar la calculadora\")\n",
        "else:\n",
        "  num1=int(input(\"ingrese numero: \"))\n",
        "  num2=int(input(\"ingrese numero: \"))\n",
        "  resul=operacion(num1,num2)\n",
        "  print(\"el resultado es: \",resul)\n",
        "\n",
        "\n"
      ],
      "metadata": {
        "colab": {
          "base_uri": "https://localhost:8080/"
        },
        "id": "wohJqBqIt5Ni",
        "outputId": "ab988cc3-b9fd-40b3-c3d5-23bb467ecf9d"
      },
      "execution_count": null,
      "outputs": [
        {
          "output_type": "stream",
          "name": "stdout",
          "text": [
            "escoja opcion: 1\n",
            "1.suma\n",
            "2.resta\n",
            "3.multiplicacion\n",
            "4.division\n",
            "5.salir\n",
            "ingrese numero: 5\n",
            "ingrese numero: 8\n",
            "el resultado es:  13\n"
          ]
        }
      ]
    },
    {
      "cell_type": "markdown",
      "source": [
        "**5) Número mayor:** Escribe un programa que pida tres números al usuario y determine cuál es el mayor."
      ],
      "metadata": {
        "id": "Yh1uz7uRv-jR"
      }
    },
    {
      "cell_type": "code",
      "source": [
        "num1=(input(\"ingrese numero1: \"))\n",
        "num2=(input(\"ingrese numero2: \"))\n",
        "num3=(input(\"ingrese numero3: \"))\n",
        "lista=[]\n",
        "lista.append(int(num1))\n",
        "lista.append(int(num2))\n",
        "lista.append(int(num3))\n",
        "print(\"el mayor es: \",max(lista))\n"
      ],
      "metadata": {
        "colab": {
          "base_uri": "https://localhost:8080/"
        },
        "id": "t5EHqWQdwEwh",
        "outputId": "1dfad6f8-43c0-4773-8e85-3e3e3e94837a"
      },
      "execution_count": null,
      "outputs": [
        {
          "output_type": "stream",
          "name": "stdout",
          "text": [
            "ingrese numero1: 4\n",
            "ingrese numero2: 2\n",
            "ingrese numero3: 8\n",
            "el mayor es:  8\n"
          ]
        }
      ]
    },
    {
      "cell_type": "markdown",
      "source": [
        "**6) Cálculo del área de un círculo:** Escribe un programa que calcule el área de un círculo a partir de su radio, ingresado por el usuario."
      ],
      "metadata": {
        "id": "0kq4ifkYy8E0"
      }
    },
    {
      "cell_type": "code",
      "source": [
        "#r = c/(2 × π)\n",
        "import math\n",
        "num1=float(input(\"ingrese circunferencia: \"))\n",
        "print(\"el área del círculo es: \",num1/(2*math.pi))\n",
        "\n"
      ],
      "metadata": {
        "id": "EPOtssZxy9x9",
        "colab": {
          "base_uri": "https://localhost:8080/"
        },
        "outputId": "c6b0527d-dca2-47db-88c9-910918f40c50"
      },
      "execution_count": null,
      "outputs": [
        {
          "output_type": "stream",
          "name": "stdout",
          "text": [
            "ingrese circunferencia: 6\n",
            "el área del círculo es:  0.954929658551372\n"
          ]
        }
      ]
    },
    {
      "cell_type": "markdown",
      "source": [
        "**7. Conversión de grados Celsius a Fahrenheit:** Escribe un programa que convierta una temperatura dada en grados Celsius a grados Fahrenheit.\n"
      ],
      "metadata": {
        "id": "9k-_r8Kn5g02"
      }
    },
    {
      "cell_type": "code",
      "source": [
        "num1=float(input(\"ingrese grados celsius: \"))\n",
        "# Para convertir grados celsius a Fahrenheit: multiplicar por 9/ 5 o por 1,8 y luego sumar 32.\n",
        "print(\"la conversion de grados celsuis a Fahrenheit es: \",(num1*1.8)+32)"
      ],
      "metadata": {
        "colab": {
          "base_uri": "https://localhost:8080/"
        },
        "id": "Gko_N2Zb5_fY",
        "outputId": "232b6a5e-47d6-4b30-a12e-4c04b85a7d5b"
      },
      "execution_count": null,
      "outputs": [
        {
          "output_type": "stream",
          "name": "stdout",
          "text": [
            "ingrese grados celsius: 5\n",
            "la conversion de grados celsuis a Fahrenheit es:  41.0\n"
          ]
        }
      ]
    },
    {
      "cell_type": "markdown",
      "source": [
        "**8. Cuenta atrás:** Escribe un programa que cuente hacia atrás desde 10 hasta 0."
      ],
      "metadata": {
        "id": "i534bIUm-L7q"
      }
    },
    {
      "cell_type": "code",
      "source": [
        "for i in range(10,-1,-1):\n",
        "  print(i)\n"
      ],
      "metadata": {
        "colab": {
          "base_uri": "https://localhost:8080/"
        },
        "id": "nj3PkioRcDBE",
        "outputId": "e52f4c46-7bbc-4635-9f21-e2cbb1297f2f"
      },
      "execution_count": 2,
      "outputs": [
        {
          "output_type": "stream",
          "name": "stdout",
          "text": [
            "10\n",
            "9\n",
            "8\n",
            "7\n",
            "6\n",
            "5\n",
            "4\n",
            "3\n",
            "2\n",
            "1\n",
            "0\n"
          ]
        }
      ]
    },
    {
      "cell_type": "markdown",
      "source": [
        "9) Tabla de multiplicar: Escribe un programa que muestre la tabla de multiplicar de un número introducido por el usuario.\n"
      ],
      "metadata": {
        "id": "EfWc74yocfdL"
      }
    },
    {
      "cell_type": "code",
      "source": [
        "a=int(input(\"Ingrese numero para obtener la tabla \"))\n",
        "for i in range(1,11):\n",
        "  print(a,\" x \",i,\" = \",a*i)\n"
      ],
      "metadata": {
        "colab": {
          "base_uri": "https://localhost:8080/"
        },
        "id": "tB-CQGHCcpeX",
        "outputId": "52d435a4-a07a-4d5c-ffb6-185a4cbd0938"
      },
      "execution_count": 5,
      "outputs": [
        {
          "output_type": "stream",
          "name": "stdout",
          "text": [
            "Ingrese numero para obtener la tabla 6\n",
            "6  x  1  =  6\n",
            "6  x  2  =  12\n",
            "6  x  3  =  18\n",
            "6  x  4  =  24\n",
            "6  x  5  =  30\n",
            "6  x  6  =  36\n",
            "6  x  7  =  42\n",
            "6  x  8  =  48\n",
            "6  x  9  =  54\n",
            "6  x  10  =  60\n"
          ]
        }
      ]
    },
    {
      "cell_type": "markdown",
      "source": [
        "10) Números primos: Escribe un programa que determine si un número introducido por el usuario es primo.\n"
      ],
      "metadata": {
        "id": "Vtt9zOy4d-ng"
      }
    },
    {
      "cell_type": "code",
      "source": [
        "def es_primo(a):\n",
        "    for i in range(2, a):\n",
        "        if a % i == 0:\n",
        "            return False\n",
        "    return True\n",
        "\n",
        "num=int(input(\"ingrese numero para comprobar si es primo: \"))\n",
        "if es_primo(num):\n",
        "    print(\"el numero ingresado SI es primo\")\n",
        "else:\n",
        "    print(\"el numero ingresado NO es primo\")"
      ],
      "metadata": {
        "colab": {
          "base_uri": "https://localhost:8080/"
        },
        "id": "a3MLM4MyeH0H",
        "outputId": "0f732851-b629-4e84-8a92-597ff8e8929f"
      },
      "execution_count": 6,
      "outputs": [
        {
          "output_type": "stream",
          "name": "stdout",
          "text": [
            "ingrese numero para comprobar si es primo: 5\n",
            "el numero ingresado SI es primo\n"
          ]
        }
      ]
    },
    {
      "cell_type": "markdown",
      "source": [
        "11) Sumar números hasta un límite: Escribe un programa que sume todos los números naturales hasta un número límite introducido por el usuario."
      ],
      "metadata": {
        "id": "jofFASMte9uS"
      }
    },
    {
      "cell_type": "code",
      "source": [
        "num=int(input(\"ingrese numero limite: \"))\n",
        "acum=0\n",
        "for i in range(num+1):\n",
        "  acum=acum+i\n",
        "print(\"la suma es: \",acum)"
      ],
      "metadata": {
        "colab": {
          "base_uri": "https://localhost:8080/"
        },
        "id": "2xo9DebLfED8",
        "outputId": "18cd2f0a-88dd-4f3d-987d-57dd14d00fdf"
      },
      "execution_count": 11,
      "outputs": [
        {
          "output_type": "stream",
          "name": "stdout",
          "text": [
            "ingrese numero limite: 5\n",
            "la suma es:  15\n"
          ]
        }
      ]
    },
    {
      "cell_type": "markdown",
      "source": [
        "12) Invertir una cadena: Escribe un programa que invierta una cadena introducida por el usuario.\n"
      ],
      "metadata": {
        "id": "7n0uwqwWkLlc"
      }
    },
    {
      "cell_type": "code",
      "source": [
        "cadena=input(\"ingrese texto: \")\n",
        "invierta = cadena[::-1]\n",
        "print(invierta)\n"
      ],
      "metadata": {
        "colab": {
          "base_uri": "https://localhost:8080/"
        },
        "id": "5InxiqgxkP_W",
        "outputId": "609d7d68-dba6-40ff-de38-6e6daad3451e"
      },
      "execution_count": 13,
      "outputs": [
        {
          "output_type": "stream",
          "name": "stdout",
          "text": [
            "ingrese texto: hola\n",
            "aloh\n"
          ]
        }
      ]
    },
    {
      "cell_type": "markdown",
      "source": [
        "13) Contar vocales: Escribe un programa que cuente el número de vocales en una cadena introducida por el usuario.\n"
      ],
      "metadata": {
        "id": "YgWVlxESk8ZQ"
      }
    },
    {
      "cell_type": "code",
      "source": [
        "cadena=input(\"ingrese texto: \")\n",
        "contador=0\n",
        "for i in cadena:\n",
        "  if i.upper() in (\"A\",\"E\",\"I\",\"O\",\"U\"):\n",
        "    contador +=1\n",
        "print(\"el numero de vocales es: \",contador)"
      ],
      "metadata": {
        "colab": {
          "base_uri": "https://localhost:8080/"
        },
        "id": "7SFOXbkClAeK",
        "outputId": "3775a1f5-4a39-4d60-ad1b-f19fda4b60e1"
      },
      "execution_count": 18,
      "outputs": [
        {
          "output_type": "stream",
          "name": "stdout",
          "text": [
            "ingrese texto: hola mundito\n",
            "el numero de vocales es:  5\n"
          ]
        }
      ]
    },
    {
      "cell_type": "markdown",
      "source": [
        "14) Palíndromo: Escribe un programa que determine si una cadena introducida por el usuario es un palíndromo.\n"
      ],
      "metadata": {
        "id": "YJUZzknwzrFm"
      }
    },
    {
      "cell_type": "code",
      "source": [
        "cadena=input(\"ingrese texto: \")\n",
        "invierta = cadena[::-1]\n",
        "if cadena == invierta:\n",
        "  print(\"Es palindriomo\")\n",
        "else:\n",
        "  print(\"NO Es palindriomo\")\n"
      ],
      "metadata": {
        "colab": {
          "base_uri": "https://localhost:8080/"
        },
        "id": "MEflKaOGzvai",
        "outputId": "672e7964-b11a-4d30-b6a6-609716193acc"
      },
      "execution_count": 20,
      "outputs": [
        {
          "output_type": "stream",
          "name": "stdout",
          "text": [
            "ingrese texto: OSO\n",
            "Es palindriomo\n"
          ]
        }
      ]
    },
    {
      "cell_type": "markdown",
      "source": [
        "15) Factorial de un número: Escribe un programa que calcule el factorial de un número introducido por el usuario.\n"
      ],
      "metadata": {
        "id": "7dmcC5A40FSW"
      }
    },
    {
      "cell_type": "code",
      "source": [
        "def factorial(a):\n",
        "    acum=1\n",
        "    for i in range(1,a+1):\n",
        "        acum= i * acum\n",
        "    return acum\n",
        "\n",
        "num=int(input(\"ingrese numero que desea el factorial: \"))\n",
        "print(\"el factorial es: \",factorial(num))"
      ],
      "metadata": {
        "colab": {
          "base_uri": "https://localhost:8080/"
        },
        "id": "-V0nn3HB0HOs",
        "outputId": "9d30b91f-2f8a-4914-83df-c03380f1718d"
      },
      "execution_count": 21,
      "outputs": [
        {
          "output_type": "stream",
          "name": "stdout",
          "text": [
            "ingrese numero que desea el factorial: 5\n",
            "el factorial es:  120\n"
          ]
        }
      ]
    },
    {
      "cell_type": "markdown",
      "source": [
        "16) Generar números aleatorios: Escribe un programa que genere y muestre 5 números aleatorios entre 1 y 100.\n"
      ],
      "metadata": {
        "id": "lcWzi_y00SjN"
      }
    },
    {
      "cell_type": "code",
      "source": [
        "import random\n",
        "num=0\n",
        "lista=[]\n",
        "for i in range(5):\n",
        "  numero = random.randint(1, 100)\n",
        "  print(numero)\n",
        "\n",
        "\n"
      ],
      "metadata": {
        "colab": {
          "base_uri": "https://localhost:8080/"
        },
        "id": "5lCxKaz20YGe",
        "outputId": "fa3d1df7-52d9-4595-e3de-ad10fb0c7ff9"
      },
      "execution_count": 40,
      "outputs": [
        {
          "output_type": "stream",
          "name": "stdout",
          "text": [
            "76\n",
            "37\n",
            "85\n",
            "72\n",
            "56\n"
          ]
        }
      ]
    },
    {
      "cell_type": "markdown",
      "source": [
        "17) Calculadora de índice de masa corporal (IMC): Escribe un programa que calcule el índice de masa corporal (IMC) a partir del peso y la altura introducidos por el usuario.\n"
      ],
      "metadata": {
        "id": "T7qqVUxA5SHg"
      }
    },
    {
      "cell_type": "code",
      "source": [
        "peso=float(input(\"ingrese peso kg: \"))\n",
        "altura=float(input(\"ingrese altura metros: \"))\n",
        "print (\"el indice de masa corporal es: \",(peso/altura))"
      ],
      "metadata": {
        "colab": {
          "base_uri": "https://localhost:8080/"
        },
        "id": "gTyndr3y5myE",
        "outputId": "2591fccf-700e-4295-f533-f37c12cdc727"
      },
      "execution_count": 49,
      "outputs": [
        {
          "output_type": "stream",
          "name": "stdout",
          "text": [
            "ingrese peso kg: 70\n",
            "ingrese altura metros: 1.70\n",
            "el indice de masa corporal es:  41.1764705882353\n"
          ]
        }
      ]
    }
  ]
}
{
  "nbformat": 4,
  "nbformat_minor": 0,
  "metadata": {
    "colab": {
      "provenance": [],
      "authorship_tag": "ABX9TyMKzFPQHxfuQ9pIW6cyBrvI",
      "include_colab_link": true
    },
    "kernelspec": {
      "name": "python3",
      "display_name": "Python 3"
    },
    "language_info": {
      "name": "python"
    }
  },
  "cells": [
    {
      "cell_type": "markdown",
      "metadata": {
        "id": "view-in-github",
        "colab_type": "text"
      },
      "source": [
        "<a href=\"https://colab.research.google.com/github/mcobaherrera/hola-mundo/blob/main/A_T2_COBA_MARCELO.ipynb\" target=\"_parent\"><img src=\"https://colab.research.google.com/assets/colab-badge.svg\" alt=\"Open In Colab\"/></a>"
      ]
    },
    {
      "cell_type": "markdown",
      "source": [
        "1. **Hola Mundo**: Escribe un programa que imprima \"Hola, Mundo!\" en la pantalla.\n"
      ],
      "metadata": {
        "id": "NdseJxSSsukE"
      }
    },
    {
      "cell_type": "code",
      "source": [
        "print (\"hola mundo\")\n"
      ],
      "metadata": {
        "id": "qnWUpPlCs1Lz"
      },
      "execution_count": null,
      "outputs": []
    },
    {
      "cell_type": "markdown",
      "source": [
        "Suma de dos números: Escribe un programa que pida al usuario dos números y los sume.\n"
      ],
      "metadata": {
        "id": "NicUk1Q2s5a8"
      }
    },
    {
      "cell_type": "code",
      "source": [],
      "metadata": {
        "id": "m_DvAJ4Itc0i"
      },
      "execution_count": null,
      "outputs": []
    },
    {
      "cell_type": "code",
      "source": [
        "a=int(input(\"ingrese primer numero: \"))\n",
        "b=int(input(\"ingrese segndo numero: \"))\n",
        "print(\"el resultado es: \"a+b)\n"
      ],
      "metadata": {
        "id": "pBATHlt-tHr7"
      },
      "execution_count": null,
      "outputs": []
    },
    {
      "cell_type": "markdown",
      "source": [
        "**Par o Impar**: Escribe un programa que determine si un número introducido por el usuario es par o impar.\n"
      ],
      "metadata": {
        "id": "G5FSX5eUtWjq"
      }
    },
    {
      "cell_type": "code",
      "source": [
        "a=int(input(\"ingrese numero: \"))\n",
        "if a%2 == 0:\n",
        "  print(\"el numero es par\")\n",
        "else:\n",
        "  print(\"el numero es impar\")\n"
      ],
      "metadata": {
        "id": "tgQdg_0GtioL"
      },
      "execution_count": null,
      "outputs": []
    },
    {
      "cell_type": "markdown",
      "source": [
        "**Calculadora básica:** Escribe un programa que realice operaciones básicas (suma, resta, multiplicación y división) entre dos números introducidos por el usuario.\n"
      ],
      "metadata": {
        "id": "3JUAjko8t2bj"
      }
    },
    {
      "cell_type": "code",
      "source": [
        "opcion=int(input(\"escoja opcion: \"))\n",
        "print(f\"1.suma\\n2.resta\\n3.multiplicacion\\n4.division\\n5.salir\")\n",
        "def operacion(a,b):\n",
        "  if opcion==1:\n",
        "    return(a+b)\n",
        "  elif opcion==2:\n",
        "    return(a-b)\n",
        "  elif opcion==3:\n",
        "    return(a*b)\n",
        "  elif opcion==4:\n",
        "    return(a/b)\n",
        "\n",
        "if opcion==5:\n",
        "  print(\"gracias por usar la calculadora\")\n",
        "else:\n",
        "  num1=int(input(\"ingrese numero: \"))\n",
        "  num2=int(input(\"ingrese numero: \"))\n",
        "  resul=operacion(num1,num2)\n",
        "  print(\"el resultado es: \",resul)\n",
        "\n",
        "\n"
      ],
      "metadata": {
        "colab": {
          "base_uri": "https://localhost:8080/"
        },
        "id": "wohJqBqIt5Ni",
        "outputId": "ab988cc3-b9fd-40b3-c3d5-23bb467ecf9d"
      },
      "execution_count": null,
      "outputs": [
        {
          "output_type": "stream",
          "name": "stdout",
          "text": [
            "escoja opcion: 1\n",
            "1.suma\n",
            "2.resta\n",
            "3.multiplicacion\n",
            "4.division\n",
            "5.salir\n",
            "ingrese numero: 5\n",
            "ingrese numero: 8\n",
            "el resultado es:  13\n"
          ]
        }
      ]
    },
    {
      "cell_type": "markdown",
      "source": [
        "**Número mayor:** Escribe un programa que pida tres números al usuario y determine cuál es el mayor."
      ],
      "metadata": {
        "id": "Yh1uz7uRv-jR"
      }
    },
    {
      "cell_type": "code",
      "source": [
        "num1=(input(\"ingrese numero1: \"))\n",
        "num2=(input(\"ingrese numero2: \"))\n",
        "num3=(input(\"ingrese numero3: \"))\n",
        "lista=[]\n",
        "lista.append(int(num1))\n",
        "lista.append(int(num2))\n",
        "lista.append(int(num3))\n",
        "print(\"el mayor es: \",max(lista))\n"
      ],
      "metadata": {
        "colab": {
          "base_uri": "https://localhost:8080/"
        },
        "id": "t5EHqWQdwEwh",
        "outputId": "1dfad6f8-43c0-4773-8e85-3e3e3e94837a"
      },
      "execution_count": null,
      "outputs": [
        {
          "output_type": "stream",
          "name": "stdout",
          "text": [
            "ingrese numero1: 4\n",
            "ingrese numero2: 2\n",
            "ingrese numero3: 8\n",
            "el mayor es:  8\n"
          ]
        }
      ]
    },
    {
      "cell_type": "markdown",
      "source": [
        "**Cálculo del área de un círculo:** Escribe un programa que calcule el área de un círculo a partir de su radio, ingresado por el usuario."
      ],
      "metadata": {
        "id": "0kq4ifkYy8E0"
      }
    },
    {
      "cell_type": "code",
      "source": [
        "#r = c/(2 × π)\n",
        "import math\n",
        "num1=float(input(\"ingrese circunferencia: \"))\n",
        "print(\"el área del círculo es: \",num1/(2*math.pi))\n",
        "\n"
      ],
      "metadata": {
        "id": "EPOtssZxy9x9",
        "colab": {
          "base_uri": "https://localhost:8080/"
        },
        "outputId": "c6b0527d-dca2-47db-88c9-910918f40c50"
      },
      "execution_count": 20,
      "outputs": [
        {
          "output_type": "stream",
          "name": "stdout",
          "text": [
            "ingrese circunferencia: 6\n",
            "el área del círculo es:  0.954929658551372\n"
          ]
        }
      ]
    },
    {
      "cell_type": "markdown",
      "source": [],
      "metadata": {
        "id": "dshYwaXB07Yj"
      }
    }
  ]
}